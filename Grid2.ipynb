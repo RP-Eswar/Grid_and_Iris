{
 "cells": [
  {
   "cell_type": "code",
   "execution_count": null,
   "metadata": {},
   "outputs": [],
   "source": [
    "'''\n",
    "Modify the previous function to take another input special_cells which should be a list of lists of\n",
    "coordinates which are the coordinates of some cells in the grid. For ex : [[1,2],[0,1],[2,3]] .\n",
    "Print \"X\" in the corresponding cell if it is present in special_cells .\n",
    "Modify the previous script REPL to also take the coordinates as input. How you take the input is up to you\n",
    "again.\n",
    "Again in case of invalid input you should give an error message and ask for input again. You can start from\n",
    "the beginning - i.e. If someone gives height and width correctly, but messes up special_cells you can\n",
    "just restart from height and width.\n",
    "'''"
   ]
  },
  {
   "cell_type": "code",
   "execution_count": null,
   "metadata": {},
   "outputs": [
    {
     "name": "stdout",
     "output_type": "stream",
     "text": [
      "Enter height,width of the grid?\n",
      "3,3\n",
      "Enter special cell as 'ROWNUM,COLNUM' (zero-indexed) or an empty line to print\n",
      "3,2\n",
      "Invalid input\n",
      "Enter height,width of the grid?\n",
      "3,1\n",
      "Enter special cell as 'ROWNUM,COLNUM' (zero-indexed) or an empty line to print\n",
      "0,0\n",
      "Enter special cell as 'ROWNUM,COLNUM' (zero-indexed) or an empty line to print\n",
      "\n",
      " ---\n",
      "| X |   \n",
      " ---\n",
      "|   |   \n",
      " ---\n",
      "|   |   \n",
      " ---\n",
      "\n"
     ]
    }
   ],
   "source": [
    "def drawGrid(height, width, special_cells):\n",
    "    for i in range(height + 1):\n",
    "        for j in range(width):\n",
    "            print(' ' + '-' * 3, end=\"\")\n",
    "        print()\n",
    "        if i != height:\n",
    "            for j in range(width + 1):\n",
    "                l = [i, j]\n",
    "                if len(special_cells) != 0 and l in special_cells:\n",
    "                    print(\"| \" + \"X \", end=\"\")\n",
    "                else:\n",
    "                    print(\"|\" + \" \" * 3, end=\"\")\n",
    "        print()\n",
    "\n",
    "\n",
    "def validateList(mylist):\n",
    "    if len(mylist) != 2:\n",
    "        return False\n",
    "    try:\n",
    "        int(mylist[0])\n",
    "        int(mylist[1])\n",
    "        return True\n",
    "    except Exception:\n",
    "        return False\n",
    "\n",
    "\n",
    "def validateSpecialCellsIndexBound(height1, width1, specialCell):\n",
    "    if specialCell[0] >= height1 or specialCell[1] >= width1:\n",
    "        return False\n",
    "    return True\n",
    "\n",
    "\n",
    "while True:\n",
    "    special_cells = []\n",
    "    valid = True\n",
    "    val = input(\"Enter height,width of the grid?\\n\")\n",
    "    if val == \"exit\":\n",
    "        exit()\n",
    "    mylist = val.strip().split(\",\")\n",
    "    if not validateList(mylist):\n",
    "        print(\"Invalid input\")\n",
    "        valid = False\n",
    "    else:\n",
    "        while True:\n",
    "            row_col = input(\"Enter special cell as 'ROWNUM,COLNUM' (zero-indexed) or an empty line to print\\n\")\n",
    "            if len(row_col.strip()) == 0:\n",
    "                valid = True\n",
    "                break\n",
    "            else:\n",
    "                row_col = row_col.strip().split(\",\")\n",
    "                if not validateList(row_col) or not validateSpecialCellsIndexBound(int(mylist[0]), int(mylist[1]), [int(row_col[0]), int(row_col[1])]):\n",
    "                    print(\"Invalid input\")\n",
    "                    valid = False\n",
    "                    break\n",
    "                else:\n",
    "                    special_cells.append([int(row_col[0]), int(row_col[1])])\n",
    "    if valid:\n",
    "        height = int(mylist[0])\n",
    "        width = int(mylist[1])\n",
    "        drawGrid(height, width, special_cells)"
   ]
  },
  {
   "cell_type": "code",
   "execution_count": null,
   "metadata": {},
   "outputs": [],
   "source": []
  },
  {
   "cell_type": "code",
   "execution_count": null,
   "metadata": {},
   "outputs": [],
   "source": []
  },
  {
   "cell_type": "code",
   "execution_count": null,
   "metadata": {},
   "outputs": [],
   "source": []
  },
  {
   "cell_type": "code",
   "execution_count": null,
   "metadata": {},
   "outputs": [],
   "source": []
  },
  {
   "cell_type": "code",
   "execution_count": null,
   "metadata": {},
   "outputs": [],
   "source": []
  }
 ],
 "metadata": {
  "kernelspec": {
   "display_name": "Python 3",
   "language": "python",
   "name": "python3"
  },
  "language_info": {
   "codemirror_mode": {
    "name": "ipython",
    "version": 3
   },
   "file_extension": ".py",
   "mimetype": "text/x-python",
   "name": "python",
   "nbconvert_exporter": "python",
   "pygments_lexer": "ipython3",
   "version": "3.8.3"
  }
 },
 "nbformat": 4,
 "nbformat_minor": 4
}
