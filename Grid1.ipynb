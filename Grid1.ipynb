{
 "cells": [
  {
   "cell_type": "code",
   "execution_count": 1,
   "metadata": {},
   "outputs": [
    {
     "data": {
      "text/plain": [
       "'\\n1. Write a function taking two arguments height and width as input and prints a grid of dimensions\\nheight x width .\\n2. Write a script to take height and width as input in a REPL (infinite loop) and print out grid after each\\nset of inputs. You can take them together or in separate lines... Up to you.\\n3. Have some keyword for exiting the loop like \"x\" or \"exit\".\\n4. In case of invalid input you should give an error message.\\n'"
      ]
     },
     "execution_count": 1,
     "metadata": {},
     "output_type": "execute_result"
    }
   ],
   "source": [
    "'''\n",
    "1. Write a function taking two arguments height and width as input and prints a grid of dimensions\n",
    "height x width .\n",
    "2. Write a script to take height and width as input in a REPL (infinite loop) and print out grid after each\n",
    "set of inputs. You can take them together or in separate lines... Up to you.\n",
    "3. Have some keyword for exiting the loop like \"x\" or \"exit\".\n",
    "4. In case of invalid input you should give an error message.\n",
    "'''"
   ]
  },
  {
   "cell_type": "code",
   "execution_count": null,
   "metadata": {},
   "outputs": [
    {
     "name": "stdout",
     "output_type": "stream",
     "text": [
      "Enter height,width of the grid?\n",
      "5,5\n",
      " --- --- --- --- ---\n",
      "|   |   |   |   |   |   \n",
      " --- --- --- --- ---\n",
      "|   |   |   |   |   |   \n",
      " --- --- --- --- ---\n",
      "|   |   |   |   |   |   \n",
      " --- --- --- --- ---\n",
      "|   |   |   |   |   |   \n",
      " --- --- --- --- ---\n",
      "|   |   |   |   |   |   \n",
      " --- --- --- --- ---\n",
      "\n",
      "Enter height,width of the grid?\n",
      "1,2,3,4\n",
      "Invalid input\n"
     ]
    }
   ],
   "source": [
    "def drawGrid(height, width):\n",
    "    for i in range(height + 1):\n",
    "        for j in range(width):\n",
    "            print(' ' +'-'*3, end=\"\")\n",
    "        print()\n",
    "        if i != height:\n",
    "            for j in range(width + 1):\n",
    "                print(\"|\" + \" \"*3, end= \"\")\n",
    "        print()\n",
    "\n",
    "\n",
    "def validateList(mylist):\n",
    "    if len(mylist) != 2:\n",
    "        return False\n",
    "    try:\n",
    "        int(mylist[0])\n",
    "        int(mylist[1])\n",
    "        return True\n",
    "    except Exception:\n",
    "        return False\n",
    "\n",
    "\n",
    "while True:\n",
    "    val = input(\"Enter height,width of the grid?\\n\")\n",
    "    if val == \"exit\":\n",
    "        exit()\n",
    "    mylist = val.strip().split(\",\")\n",
    "    if not validateList(mylist):\n",
    "        print(\"Invalid input\")\n",
    "    else:\n",
    "        height = int(mylist[0])\n",
    "        width = int(mylist[1])\n",
    "        drawGrid(height, width)"
   ]
  },
  {
   "cell_type": "code",
   "execution_count": null,
   "metadata": {},
   "outputs": [],
   "source": []
  },
  {
   "cell_type": "code",
   "execution_count": null,
   "metadata": {},
   "outputs": [],
   "source": []
  },
  {
   "cell_type": "code",
   "execution_count": null,
   "metadata": {},
   "outputs": [],
   "source": []
  }
 ],
 "metadata": {
  "kernelspec": {
   "display_name": "Python 3",
   "language": "python",
   "name": "python3"
  },
  "language_info": {
   "codemirror_mode": {
    "name": "ipython",
    "version": 3
   },
   "file_extension": ".py",
   "mimetype": "text/x-python",
   "name": "python",
   "nbconvert_exporter": "python",
   "pygments_lexer": "ipython3",
   "version": "3.8.3"
  }
 },
 "nbformat": 4,
 "nbformat_minor": 4
}
